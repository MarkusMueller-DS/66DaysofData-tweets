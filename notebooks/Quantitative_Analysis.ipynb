{
 "cells": [
  {
   "attachments": {},
   "cell_type": "markdown",
   "metadata": {},
   "source": [
    "# Quantitative Analysis of the tweets"
   ]
  },
  {
   "cell_type": "code",
   "execution_count": 104,
   "metadata": {},
   "outputs": [],
   "source": [
    "# imports\n",
    "import pandas as pd\n",
    "import matplotlib.pyplot as plt\n",
    "import seaborn as sns\n",
    "import random"
   ]
  },
  {
   "cell_type": "code",
   "execution_count": 95,
   "metadata": {},
   "outputs": [
    {
     "name": "stdout",
     "output_type": "stream",
     "text": [
      "<class 'pandas.core.frame.DataFrame'>\n",
      "RangeIndex: 40121 entries, 0 to 40120\n",
      "Data columns (total 7 columns):\n",
      " #   Column      Non-Null Count  Dtype \n",
      "---  ------      --------------  ----- \n",
      " 0   tweet_id    40121 non-null  int64 \n",
      " 1   user_id     40121 non-null  int64 \n",
      " 2   user_name   40121 non-null  object\n",
      " 3   created_at  40121 non-null  object\n",
      " 4   full_text   40121 non-null  object\n",
      " 5   retweets    40121 non-null  int64 \n",
      " 6   favorite    40121 non-null  int64 \n",
      "dtypes: int64(4), object(3)\n",
      "memory usage: 2.1+ MB\n"
     ]
    }
   ],
   "source": [
    "# read Data\n",
    "PATH_DATA = \"../data/final/tweets_66DaysofData.csv\"\n",
    "df = pd.read_csv(PATH_DATA)\n",
    "df.info()"
   ]
  },
  {
   "attachments": {},
   "cell_type": "markdown",
   "metadata": {},
   "source": [
    "## For the entire data set"
   ]
  },
  {
   "cell_type": "code",
   "execution_count": 13,
   "metadata": {},
   "outputs": [
    {
     "name": "stdout",
     "output_type": "stream",
     "text": [
      "Number of tweets: 40121\n",
      "Tweets from 2020-08-29 to 2023-03-22\n",
      "Unique participats: 1898\n"
     ]
    }
   ],
   "source": [
    "# number of tweets\n",
    "print(f\"Number of tweets: {df.shape[0]}\")\n",
    "# data range\n",
    "print(f\"Tweets from {df['created_at'][0].split(' ')[0]} to {df['created_at'][df. index[-1]].split(' ')[0]}\")\n",
    "# unique participants\n",
    "print(f\"Unique participats: {df['user_id'].nunique()}\")"
   ]
  },
  {
   "cell_type": "code",
   "execution_count": 27,
   "metadata": {},
   "outputs": [
    {
     "data": {
      "text/plain": [
       "user_name\n",
       "_datajunkie       467\n",
       "JackRaifer        452\n",
       "roshinifer333     354\n",
       "dataQueen_pend    351\n",
       "meyke9976         351\n",
       "Name: user_id, dtype: int64"
      ]
     },
     "execution_count": 27,
     "metadata": {},
     "output_type": "execute_result"
    }
   ],
   "source": [
    "top_5_participants = df.groupby('user_name')['user_id'].count().sort_values(ascending=False).head(5)\n",
    "top_5_participants"
   ]
  },
  {
   "cell_type": "code",
   "execution_count": 47,
   "metadata": {},
   "outputs": [
    {
     "name": "stdout",
     "output_type": "stream",
     "text": [
      "Average length of tweets: 194.22\n",
      "Max lenght of tweets: 383\n",
      "Min lenght of tweets: 13\n",
      "Median length: 201.0\n"
     ]
    }
   ],
   "source": [
    "# length of tweet\n",
    "df[\"text_len\"] = df[\"full_text\"].apply(len)\n",
    "#df[[\"full_text\", \"text_len\"]]\n",
    "print(f'Average length of tweets: {df[\"text_len\"].mean():.2f}')\n",
    "print(f'Max lenght of tweets: {df[\"text_len\"].max()}')\n",
    "print(f'Min lenght of tweets: {df[\"text_len\"].min()}')\n",
    "print(f'Median length: {df[\"text_len\"].median()}')"
   ]
  },
  {
   "attachments": {},
   "cell_type": "markdown",
   "metadata": {},
   "source": [
    "### Plot of tweets over time"
   ]
  },
  {
   "cell_type": "code",
   "execution_count": 96,
   "metadata": {},
   "outputs": [],
   "source": [
    "# plot with date and number of tweets\n",
    "# create df with counts of tweets per day\n",
    "# split the `created_at` column into date and time to make aggreation over days possible \n",
    "df['created_at'] = pd.to_datetime(df['created_at'])\n",
    "df['date'] = [d.date() for d in df['created_at']]\n",
    "df['time'] = [d.time() for d in df['created_at']]\n",
    "df.drop(['created_at'], axis=1, inplace=True)\n",
    "\n",
    "# group by date and count number of tweets on that day\n",
    "countTweetsDay = df.groupby(['date']).count()['tweet_id']\n",
    "countTweetsDay = pd.DataFrame(countTweetsDay)\n",
    "countTweetsDay.rename(columns={'tweet_id': 'count'}, inplace=True)\n",
    "\n",
    "# make sure that tweet sum is equal\n",
    "assert countTweetsDay['count'].sum() == df.shape[0], \"should be equal\""
   ]
  },
  {
   "cell_type": "code",
   "execution_count": 83,
   "metadata": {},
   "outputs": [
    {
     "data": {
      "text/html": [
       "<div>\n",
       "<style scoped>\n",
       "    .dataframe tbody tr th:only-of-type {\n",
       "        vertical-align: middle;\n",
       "    }\n",
       "\n",
       "    .dataframe tbody tr th {\n",
       "        vertical-align: top;\n",
       "    }\n",
       "\n",
       "    .dataframe thead th {\n",
       "        text-align: right;\n",
       "    }\n",
       "</style>\n",
       "<table border=\"1\" class=\"dataframe\">\n",
       "  <thead>\n",
       "    <tr style=\"text-align: right;\">\n",
       "      <th></th>\n",
       "      <th>count</th>\n",
       "    </tr>\n",
       "    <tr>\n",
       "      <th>date</th>\n",
       "      <th></th>\n",
       "    </tr>\n",
       "  </thead>\n",
       "  <tbody>\n",
       "    <tr>\n",
       "      <th>2020-08-29</th>\n",
       "      <td>28</td>\n",
       "    </tr>\n",
       "    <tr>\n",
       "      <th>2020-08-30</th>\n",
       "      <td>27</td>\n",
       "    </tr>\n",
       "    <tr>\n",
       "      <th>2020-08-31</th>\n",
       "      <td>42</td>\n",
       "    </tr>\n",
       "    <tr>\n",
       "      <th>2020-09-01</th>\n",
       "      <td>141</td>\n",
       "    </tr>\n",
       "    <tr>\n",
       "      <th>2020-09-02</th>\n",
       "      <td>165</td>\n",
       "    </tr>\n",
       "  </tbody>\n",
       "</table>\n",
       "</div>"
      ],
      "text/plain": [
       "            count\n",
       "date             \n",
       "2020-08-29     28\n",
       "2020-08-30     27\n",
       "2020-08-31     42\n",
       "2020-09-01    141\n",
       "2020-09-02    165"
      ]
     },
     "execution_count": 83,
     "metadata": {},
     "output_type": "execute_result"
    }
   ],
   "source": [
    "countTweetsDay.head()"
   ]
  },
  {
   "cell_type": "code",
   "execution_count": 103,
   "metadata": {},
   "outputs": [
    {
     "data": {
      "text/plain": [
       "(array([18536., 18628., 18718., 18809., 18901., 18993., 19083., 19174.,\n",
       "        19266., 19358., 19448.]),\n",
       " [Text(18536.0, 0, '2020-10'),\n",
       "  Text(18628.0, 0, '2021-01'),\n",
       "  Text(18718.0, 0, '2021-04'),\n",
       "  Text(18809.0, 0, '2021-07'),\n",
       "  Text(18901.0, 0, '2021-10'),\n",
       "  Text(18993.0, 0, '2022-01'),\n",
       "  Text(19083.0, 0, '2022-04'),\n",
       "  Text(19174.0, 0, '2022-07'),\n",
       "  Text(19266.0, 0, '2022-10'),\n",
       "  Text(19358.0, 0, '2023-01'),\n",
       "  Text(19448.0, 0, '2023-04')])"
      ]
     },
     "execution_count": 103,
     "metadata": {},
     "output_type": "execute_result"
    },
    {
     "data": {
      "image/png": "[encoded data removed]",
      "text/plain": [
       "<Figure size 640x480 with 1 Axes>"
      ]
     },
     "metadata": {},
     "output_type": "display_data"
    }
   ],
   "source": [
    "sns.lineplot(data=countTweetsDay, x=countTweetsDay.index, y=\"count\")\n",
    "plt.xticks(rotation= 45)"
   ]
  },
  {
   "attachments": {},
   "cell_type": "markdown",
   "metadata": {},
   "source": [
    "There are four peaks, becouse there were four \"offical\" rounds"
   ]
  },
  {
   "cell_type": "code",
   "execution_count": null,
   "metadata": {},
   "outputs": [],
   "source": [
    "# visualization \n",
    "# very large plot\n",
    "f, ax = plt.subplots(figsize=(8, 120))\n",
    "sns.barplot(y=countTweetsDay.index, x= countTweetsDay['count'], color=\"b\")\n",
    "plt.yticks(fontsize=7);"
   ]
  },
  {
   "attachments": {},
   "cell_type": "markdown",
   "metadata": {},
   "source": [
    "## For a random user"
   ]
  },
  {
   "cell_type": "code",
   "execution_count": 126,
   "metadata": {},
   "outputs": [
    {
     "name": "stdout",
     "output_type": "stream",
     "text": [
      "<class 'pandas.core.frame.DataFrame'>\n",
      "RangeIndex: 40121 entries, 0 to 40120\n",
      "Data columns (total 7 columns):\n",
      " #   Column      Non-Null Count  Dtype \n",
      "---  ------      --------------  ----- \n",
      " 0   tweet_id    40121 non-null  int64 \n",
      " 1   user_id     40121 non-null  int64 \n",
      " 2   user_name   40121 non-null  object\n",
      " 3   created_at  40121 non-null  object\n",
      " 4   full_text   40121 non-null  object\n",
      " 5   retweets    40121 non-null  int64 \n",
      " 6   favorite    40121 non-null  int64 \n",
      "dtypes: int64(4), object(3)\n",
      "memory usage: 2.1+ MB\n"
     ]
    }
   ],
   "source": [
    "# read Data\n",
    "PATH_DATA = \"../data/final/tweets_66DaysofData.csv\"\n",
    "df = pd.read_csv(PATH_DATA)\n",
    "df.info()"
   ]
  },
  {
   "cell_type": "code",
   "execution_count": 127,
   "metadata": {},
   "outputs": [],
   "source": [
    "# query a random user\n",
    "unique_user = df['user_id'].unique()\n",
    "random_user_id = random.choice(unique_user)\n",
    "user_name = df[df['user_id'] == random_user_id]['user_name'].values[0]\n",
    "\n",
    "df_user = df[df['user_name']==user_name]\n",
    "df_user = df_user.reset_index(drop=True)"
   ]
  },
  {
   "cell_type": "code",
   "execution_count": 128,
   "metadata": {},
   "outputs": [],
   "source": [
    "if df_user.shape[0] < 5:\n",
    "    print(\"User has less then 5 tweets, please draw again\")"
   ]
  },
  {
   "cell_type": "code",
   "execution_count": 130,
   "metadata": {},
   "outputs": [
    {
     "data": {
      "text/html": [
       "<div>\n",
       "<style scoped>\n",
       "    .dataframe tbody tr th:only-of-type {\n",
       "        vertical-align: middle;\n",
       "    }\n",
       "\n",
       "    .dataframe tbody tr th {\n",
       "        vertical-align: top;\n",
       "    }\n",
       "\n",
       "    .dataframe thead th {\n",
       "        text-align: right;\n",
       "    }\n",
       "</style>\n",
       "<table border=\"1\" class=\"dataframe\">\n",
       "  <thead>\n",
       "    <tr style=\"text-align: right;\">\n",
       "      <th></th>\n",
       "      <th>tweet_id</th>\n",
       "      <th>user_id</th>\n",
       "      <th>user_name</th>\n",
       "      <th>created_at</th>\n",
       "      <th>full_text</th>\n",
       "      <th>retweets</th>\n",
       "      <th>favorite</th>\n",
       "    </tr>\n",
       "  </thead>\n",
       "  <tbody>\n",
       "    <tr>\n",
       "      <th>0</th>\n",
       "      <td>1300452379720994817</td>\n",
       "      <td>2148453230</td>\n",
       "      <td>isparam_teraiya</td>\n",
       "      <td>2020-08-31 15:16:23+00:00</td>\n",
       "      <td>Can't wait to start #66daysofdata from tomorro...</td>\n",
       "      <td>0</td>\n",
       "      <td>8</td>\n",
       "    </tr>\n",
       "    <tr>\n",
       "      <th>1</th>\n",
       "      <td>1300895267680526336</td>\n",
       "      <td>2148453230</td>\n",
       "      <td>isparam_teraiya</td>\n",
       "      <td>2020-09-01 20:36:15+00:00</td>\n",
       "      <td>Day 1 of #66daysofdata!\\n- Difference between ...</td>\n",
       "      <td>0</td>\n",
       "      <td>3</td>\n",
       "    </tr>\n",
       "    <tr>\n",
       "      <th>2</th>\n",
       "      <td>1301251412916015104</td>\n",
       "      <td>2148453230</td>\n",
       "      <td>isparam_teraiya</td>\n",
       "      <td>2020-09-02 20:11:27+00:00</td>\n",
       "      <td>Day 2 of #66daysofdata!\\n\\nRevised the some st...</td>\n",
       "      <td>0</td>\n",
       "      <td>3</td>\n",
       "    </tr>\n",
       "    <tr>\n",
       "      <th>3</th>\n",
       "      <td>1301605063673036800</td>\n",
       "      <td>2148453230</td>\n",
       "      <td>isparam_teraiya</td>\n",
       "      <td>2020-09-03 19:36:44+00:00</td>\n",
       "      <td>Day 3 of #66daysofdata!\\nToday I understood th...</td>\n",
       "      <td>0</td>\n",
       "      <td>4</td>\n",
       "    </tr>\n",
       "    <tr>\n",
       "      <th>4</th>\n",
       "      <td>1301999928051466243</td>\n",
       "      <td>2148453230</td>\n",
       "      <td>isparam_teraiya</td>\n",
       "      <td>2020-09-04 21:45:47+00:00</td>\n",
       "      <td>Day 4 of #66daysofdata \\nBuilt a strong intuit...</td>\n",
       "      <td>0</td>\n",
       "      <td>6</td>\n",
       "    </tr>\n",
       "  </tbody>\n",
       "</table>\n",
       "</div>"
      ],
      "text/plain": [
       "              tweet_id     user_id        user_name  \\\n",
       "0  1300452379720994817  2148453230  isparam_teraiya   \n",
       "1  1300895267680526336  2148453230  isparam_teraiya   \n",
       "2  1301251412916015104  2148453230  isparam_teraiya   \n",
       "3  1301605063673036800  2148453230  isparam_teraiya   \n",
       "4  1301999928051466243  2148453230  isparam_teraiya   \n",
       "\n",
       "                  created_at  \\\n",
       "0  2020-08-31 15:16:23+00:00   \n",
       "1  2020-09-01 20:36:15+00:00   \n",
       "2  2020-09-02 20:11:27+00:00   \n",
       "3  2020-09-03 19:36:44+00:00   \n",
       "4  2020-09-04 21:45:47+00:00   \n",
       "\n",
       "                                           full_text  retweets  favorite  \n",
       "0  Can't wait to start #66daysofdata from tomorro...         0         8  \n",
       "1  Day 1 of #66daysofdata!\\n- Difference between ...         0         3  \n",
       "2  Day 2 of #66daysofdata!\\n\\nRevised the some st...         0         3  \n",
       "3  Day 3 of #66daysofdata!\\nToday I understood th...         0         4  \n",
       "4  Day 4 of #66daysofdata \\nBuilt a strong intuit...         0         6  "
      ]
     },
     "execution_count": 130,
     "metadata": {},
     "output_type": "execute_result"
    }
   ],
   "source": [
    "df_user.head()"
   ]
  },
  {
   "cell_type": "code",
   "execution_count": 132,
   "metadata": {},
   "outputs": [
    {
     "name": "stdout",
     "output_type": "stream",
     "text": [
      "Number of tweets: 52\n",
      "Tweets from 2020-08-31 to 2020-11-05\n"
     ]
    }
   ],
   "source": [
    "# number of tweets\n",
    "print(f\"Number of tweets: {df_user.shape[0]}\")\n",
    "# data range\n",
    "print(f\"Tweets from {df_user['created_at'][0].split(' ')[0]} to {df_user['created_at'][df_user.index[-1]].split(' ')[0]}\")\n",
    "# unique participants\n",
    "assert df_user['user_id'].nunique() == 1"
   ]
  },
  {
   "cell_type": "code",
   "execution_count": 133,
   "metadata": {},
   "outputs": [
    {
     "name": "stdout",
     "output_type": "stream",
     "text": [
      "Average length of tweets: 131.83\n",
      "Max lenght of tweets: 279\n",
      "Min lenght of tweets: 59\n",
      "Median length: 122.5\n"
     ]
    }
   ],
   "source": [
    "# length of tweet\n",
    "df_user[\"text_len\"] = df_user[\"full_text\"].apply(len)\n",
    "#df[[\"full_text\", \"text_len\"]]\n",
    "print(f'Average length of tweets: {df_user[\"text_len\"].mean():.2f}')\n",
    "print(f'Max lenght of tweets: {df_user[\"text_len\"].max()}')\n",
    "print(f'Min lenght of tweets: {df_user[\"text_len\"].min()}')\n",
    "print(f'Median length: {df_user[\"text_len\"].median()}')"
   ]
  },
  {
   "attachments": {},
   "cell_type": "markdown",
   "metadata": {},
   "source": [
    "compare length of tweets etc. with global stats"
   ]
  },
  {
   "attachments": {},
   "cell_type": "markdown",
   "metadata": {},
   "source": [
    "### Plots"
   ]
  },
  {
   "cell_type": "code",
   "execution_count": 134,
   "metadata": {},
   "outputs": [],
   "source": [
    "\n",
    "# plot with date and number of tweets\n",
    "# create df with counts of tweets per day\n",
    "# split the `created_at` column into date and time to make aggreation over days possible \n",
    "def create_data_for_plot(df: pd.DataFrame) -> pd.DataFrame:\n",
    "    df['created_at'] = pd.to_datetime(df['created_at'])\n",
    "    df['date'] = [d.date() for d in df['created_at']]\n",
    "    df['time'] = [d.time() for d in df['created_at']]\n",
    "    df.drop(['created_at'], axis=1, inplace=True)\n",
    "\n",
    "    # group by date and count number of tweets on that day\n",
    "    countTweetsDay = df.groupby(['date']).count()['tweet_id']\n",
    "    countTweetsDay = pd.DataFrame(countTweetsDay)\n",
    "    countTweetsDay.rename(columns={'tweet_id': 'count'}, inplace=True)\n",
    "\n",
    "    # make sure that tweet sum is equal\n",
    "    assert countTweetsDay['count'].sum() == df.shape[0], \"should be equal\"\n",
    "    return countTweetsDay "
   ]
  },
  {
   "cell_type": "code",
   "execution_count": 135,
   "metadata": {},
   "outputs": [],
   "source": [
    "countTweetsDay_user = create_data_for_plot(df_user)"
   ]
  },
  {
   "cell_type": "code",
   "execution_count": 138,
   "metadata": {},
   "outputs": [
    {
     "data": {
      "image/png": "[encoded data removed]",
      "text/plain": [
       "<Figure size 800x1200 with 1 Axes>"
      ]
     },
     "metadata": {},
     "output_type": "display_data"
    }
   ],
   "source": [
    "f, ax = plt.subplots(figsize=(8, 12))\n",
    "sns.barplot(y=countTweetsDay_user.index, x= countTweetsDay_user['count'], color=\"b\")\n",
    "plt.yticks(fontsize=7);"
   ]
  },
  {
   "attachments": {},
   "cell_type": "markdown",
   "metadata": {},
   "source": [
    "## Mentions"
   ]
  },
  {
   "cell_type": "code",
   "execution_count": 9,
   "metadata": {},
   "outputs": [],
   "source": [
    "import pandas as pd\n",
    "import re"
   ]
  },
  {
   "cell_type": "code",
   "execution_count": 2,
   "metadata": {},
   "outputs": [
    {
     "name": "stdout",
     "output_type": "stream",
     "text": [
      "<class 'pandas.core.frame.DataFrame'>\n",
      "RangeIndex: 40121 entries, 0 to 40120\n",
      "Data columns (total 7 columns):\n",
      " #   Column      Non-Null Count  Dtype \n",
      "---  ------      --------------  ----- \n",
      " 0   tweet_id    40121 non-null  int64 \n",
      " 1   user_id     40121 non-null  int64 \n",
      " 2   user_name   40121 non-null  object\n",
      " 3   created_at  40121 non-null  object\n",
      " 4   full_text   40121 non-null  object\n",
      " 5   retweets    40121 non-null  int64 \n",
      " 6   favorite    40121 non-null  int64 \n",
      "dtypes: int64(4), object(3)\n",
      "memory usage: 2.1+ MB\n"
     ]
    }
   ],
   "source": [
    "# read Data\n",
    "PATH_DATA = \"../data/final/tweets_66DaysofData.csv\"\n",
    "df = pd.read_csv(PATH_DATA)\n",
    "df.info()"
   ]
  },
  {
   "cell_type": "code",
   "execution_count": 17,
   "metadata": {},
   "outputs": [],
   "source": [
    "# Code to find the set of every linked twitter account with '@' in the DataFrame\n",
    "def find_mentions(df):\n",
    "    dict_mentions = {}\n",
    "    for txt in df[\"full_text\"].values:\n",
    "        mentions = re.findall(r\"@(\\w+)\", txt)\n",
    "        for mention in mentions:\n",
    "            if mention in dict_mentions:\n",
    "                dict_mentions[mention] += 1 \n",
    "            else:\n",
    "                dict_mentions[mention] = 1\n",
    "    return dict_mentions\n",
    "            \n",
    "mentions = find_mentions(df)"
   ]
  },
  {
   "cell_type": "code",
   "execution_count": 24,
   "metadata": {},
   "outputs": [],
   "source": [
    "mentions_sorted = sorted(mentions.items(), key=lambda x:x[1], reverse=True)"
   ]
  },
  {
   "cell_type": "code",
   "execution_count": 25,
   "metadata": {},
   "outputs": [
    {
     "data": {
      "text/plain": [
       "[('KenJee_DS', 7720),\n",
       " ('DataCamp', 707),\n",
       " ('kaggle', 550),\n",
       " ('thedataprof', 433),\n",
       " ('coursera', 245)]"
      ]
     },
     "execution_count": 25,
     "metadata": {},
     "output_type": "execute_result"
    }
   ],
   "source": [
    "mentions_sorted[:5]"
   ]
  },
  {
   "cell_type": "code",
   "execution_count": 29,
   "metadata": {},
   "outputs": [
    {
     "data": {
      "text/plain": [
       "'KenJee_DS'"
      ]
     },
     "execution_count": 29,
     "metadata": {},
     "output_type": "execute_result"
    }
   ],
   "source": [
    "mentions_sorted[0][0]"
   ]
  },
  {
   "cell_type": "code",
   "execution_count": 5,
   "metadata": {},
   "outputs": [
    {
     "name": "stdout",
     "output_type": "stream",
     "text": [
      "@KenJee_DS looking forward to #66DaysOfData\n",
      "Very excited to announce the #66daysofdata initiative that I am starting September 1! I encourage you to participate by spending at least 5 minutes learning data science for 66 days straight. All you have to do is tweet what you are working on each day! https://t.co/2T7vmcbgam\n",
      "@KenJee_DS Looking fwd to #66Daysofdata\n",
      "Let’s start #66daysofdata https://t.co/IPm1WhHaHB\n",
      "@KenJee_DS count me in #66daysofdata\n",
      "Excited to start #66daysofdata with @KenJee_DS. https://t.co/8v9Sjdmxbi\n",
      "@KenJee_DS Very excited about #66daysofdata! I'm in @KenJee_DS\n",
      "Very proud to start #66daysofdata\n",
      "Super Excited to start with #66daysofdata Challenge ! https://t.co/6696jHAzUe\n",
      "Day 1 of #66DaysofData Right now I’m studying Functional Programming. First Im understanding the Python language and then applying this concepts to data science cases.  @KenJee_DS\n"
     ]
    }
   ],
   "source": [
    "for txt in df[\"full_text\"].values[:10]:\n",
    "    print(txt)"
   ]
  },
  {
   "attachments": {},
   "cell_type": "markdown",
   "metadata": {},
   "source": [
    "## Hashtags"
   ]
  },
  {
   "cell_type": "code",
   "execution_count": 1,
   "metadata": {},
   "outputs": [],
   "source": [
    "import pandas as pd\n",
    "import re"
   ]
  },
  {
   "cell_type": "code",
   "execution_count": 2,
   "metadata": {},
   "outputs": [
    {
     "name": "stdout",
     "output_type": "stream",
     "text": [
      "<class 'pandas.core.frame.DataFrame'>\n",
      "RangeIndex: 40121 entries, 0 to 40120\n",
      "Data columns (total 7 columns):\n",
      " #   Column      Non-Null Count  Dtype \n",
      "---  ------      --------------  ----- \n",
      " 0   tweet_id    40121 non-null  int64 \n",
      " 1   user_id     40121 non-null  int64 \n",
      " 2   user_name   40121 non-null  object\n",
      " 3   created_at  40121 non-null  object\n",
      " 4   full_text   40121 non-null  object\n",
      " 5   retweets    40121 non-null  int64 \n",
      " 6   favorite    40121 non-null  int64 \n",
      "dtypes: int64(4), object(3)\n",
      "memory usage: 2.1+ MB\n"
     ]
    }
   ],
   "source": [
    "# read Data\n",
    "PATH_DATA = \"../data/final/tweets_66DaysofData.csv\"\n",
    "df = pd.read_csv(PATH_DATA)\n",
    "df.info()"
   ]
  },
  {
   "cell_type": "code",
   "execution_count": 26,
   "metadata": {},
   "outputs": [],
   "source": [
    "def find_hashtags(df: pd.DataFrame):\n",
    "    hashtag_dict = {}\n",
    "    for txt in df[\"full_text\"].values:\n",
    "        hashtags = re.findall(r\"#(\\w+)\", txt)\n",
    "        for hashtag in hashtags:\n",
    "            hashtag_low = hashtag.lower()\n",
    "            if hashtag_low != '66daysofdata':\n",
    "                if hashtag_low in hashtag_dict:\n",
    "                    hashtag_dict[hashtag_low] += 1 \n",
    "                else:\n",
    "                    hashtag_dict[hashtag_low] = 1\n",
    "    return hashtag_dict\n",
    "\n",
    "hashtags = find_hashtags(df)"
   ]
  },
  {
   "cell_type": "code",
   "execution_count": 29,
   "metadata": {},
   "outputs": [],
   "source": [
    "hashtags_sorted = sorted(hashtags.items(), key=lambda x:x[1], reverse=True)"
   ]
  },
  {
   "cell_type": "code",
   "execution_count": 32,
   "metadata": {},
   "outputs": [
    {
     "data": {
      "text/plain": [
       "4104"
      ]
     },
     "execution_count": 32,
     "metadata": {},
     "output_type": "execute_result"
    }
   ],
   "source": [
    "len(hashtags_sorted)"
   ]
  },
  {
   "cell_type": "code",
   "execution_count": 40,
   "metadata": {},
   "outputs": [
    {
     "data": {
      "text/plain": [
       "[('datascience', 6498),\n",
       " ('100daysofcode', 3684),\n",
       " ('python', 3481),\n",
       " ('machinelearning', 2878),\n",
       " ('data', 1818),\n",
       " ('dataanalytics', 1344),\n",
       " ('knime', 992),\n",
       " ('ai', 777),\n",
       " ('sql', 721),\n",
       " ('100daysofmlcode', 617),\n",
       " ('deeplearning', 590),\n",
       " ('opensource', 553),\n",
       " ('dataviz', 519),\n",
       " ('lowcode', 517),\n",
       " ('statistics', 472),\n",
       " ('nocode', 449),\n",
       " ('artificialintelligence', 444),\n",
       " ('kaggle', 433),\n",
       " ('ml', 364),\n",
       " ('learning', 357),\n",
       " ('analytics', 348),\n",
       " ('programming', 320),\n",
       " ('coding', 291),\n",
       " ('datavisualization', 291),\n",
       " ('pandas', 275),\n",
       " ('pythonbot', 265),\n",
       " ('rstats', 262),\n",
       " ('aibot', 259),\n",
       " ('theravitshow', 259),\n",
       " ('iot', 248),\n",
       " ('code', 246),\n",
       " ('codenewbie', 239),\n",
       " ('womenwhocode', 227),\n",
       " ('visualprogramming', 227),\n",
       " ('dataanalysis', 223),\n",
       " ('nlp', 219),\n",
       " ('30daysofml', 200),\n",
       " ('datascientist', 194),\n",
       " ('tableau', 179),\n",
       " ('javascript', 179),\n",
       " ('linux', 171),\n",
       " ('tensorflow', 154),\n",
       " ('bigdata', 153),\n",
       " ('powerbi', 150),\n",
       " ('excel', 141),\n",
       " ('coursera', 131),\n",
       " ('r', 131),\n",
       " ('datascientists', 128),\n",
       " ('100daysofcodechallenge', 127),\n",
       " ('womenintech', 125),\n",
       " ('blacktechtwitter', 121),\n",
       " ('round2', 116),\n",
       " ('100daysofcloud', 113),\n",
       " ('66daysofrunning', 112),\n",
       " ('datacamp', 107),\n",
       " ('30daysofcode', 107),\n",
       " ('java', 106),\n",
       " ('azure', 100),\n",
       " ('google', 94),\n",
       " ('mlzoomcamp', 94),\n",
       " ('sportsanalytics', 89),\n",
       " ('dataanalyst', 87),\n",
       " ('statquest', 82),\n",
       " ('challenge', 82),\n",
       " ('learntocode', 81),\n",
       " ('neuralnetworks', 80),\n",
       " ('pythonlearning', 80),\n",
       " ('computervision', 79),\n",
       " ('knimeanalyticsplatform', 78),\n",
       " ('numpy', 77),\n",
       " ('leetcode', 76),\n",
       " ('github', 75),\n",
       " ('software', 73),\n",
       " ('visualization', 73),\n",
       " ('pythonprogramming', 71),\n",
       " ('javascriptdeveloper', 71),\n",
       " ('android', 70),\n",
       " ('bwiai', 66),\n",
       " ('pytorch', 65),\n",
       " ('dataengineering', 65),\n",
       " ('dataliteracy', 65),\n",
       " ('monkmode', 65),\n",
       " ('sportsscience', 63),\n",
       " ('importdata', 62),\n",
       " ('aws', 62),\n",
       " ('bluehens', 62),\n",
       " ('accountability', 62),\n",
       " ('machinelearnig', 61),\n",
       " ('bam', 60),\n",
       " ('r4', 60),\n",
       " ('serverless', 59),\n",
       " ('r3', 59),\n",
       " ('powerquery', 59),\n",
       " ('datafam', 58),\n",
       " ('100daysofsql', 58),\n",
       " ('day1', 57),\n",
       " ('knimeing', 57),\n",
       " ('udemy', 55),\n",
       " ('100daysofdata', 55),\n",
       " ('dashboard', 55)]"
      ]
     },
     "execution_count": 40,
     "metadata": {},
     "output_type": "execute_result"
    }
   ],
   "source": [
    "hashtags_sorted[:100]"
   ]
  },
  {
   "cell_type": "code",
   "execution_count": 41,
   "metadata": {},
   "outputs": [],
   "source": [
    "df_hashtags = pd.DataFrame.from_records(hashtags_sorted[:50], columns =['hashtag', 'count'])"
   ]
  },
  {
   "cell_type": "code",
   "execution_count": 44,
   "metadata": {},
   "outputs": [
    {
     "data": {
      "text/plain": [
       "33870"
      ]
     },
     "execution_count": 44,
     "metadata": {},
     "output_type": "execute_result"
    }
   ],
   "source": [
    "df_hashtags['count'].sum()"
   ]
  },
  {
   "cell_type": "code",
   "execution_count": 45,
   "metadata": {},
   "outputs": [
    {
     "data": {
      "text/html": [
       "<div>\n",
       "<style scoped>\n",
       "    .dataframe tbody tr th:only-of-type {\n",
       "        vertical-align: middle;\n",
       "    }\n",
       "\n",
       "    .dataframe tbody tr th {\n",
       "        vertical-align: top;\n",
       "    }\n",
       "\n",
       "    .dataframe thead th {\n",
       "        text-align: right;\n",
       "    }\n",
       "</style>\n",
       "<table border=\"1\" class=\"dataframe\">\n",
       "  <thead>\n",
       "    <tr style=\"text-align: right;\">\n",
       "      <th></th>\n",
       "      <th>hashtag</th>\n",
       "      <th>count</th>\n",
       "    </tr>\n",
       "  </thead>\n",
       "  <tbody>\n",
       "    <tr>\n",
       "      <th>0</th>\n",
       "      <td>datascience</td>\n",
       "      <td>6498</td>\n",
       "    </tr>\n",
       "    <tr>\n",
       "      <th>1</th>\n",
       "      <td>100daysofcode</td>\n",
       "      <td>3684</td>\n",
       "    </tr>\n",
       "    <tr>\n",
       "      <th>2</th>\n",
       "      <td>python</td>\n",
       "      <td>3481</td>\n",
       "    </tr>\n",
       "    <tr>\n",
       "      <th>3</th>\n",
       "      <td>machinelearning</td>\n",
       "      <td>2878</td>\n",
       "    </tr>\n",
       "    <tr>\n",
       "      <th>4</th>\n",
       "      <td>data</td>\n",
       "      <td>1818</td>\n",
       "    </tr>\n",
       "    <tr>\n",
       "      <th>5</th>\n",
       "      <td>dataanalytics</td>\n",
       "      <td>1344</td>\n",
       "    </tr>\n",
       "    <tr>\n",
       "      <th>6</th>\n",
       "      <td>knime</td>\n",
       "      <td>992</td>\n",
       "    </tr>\n",
       "    <tr>\n",
       "      <th>7</th>\n",
       "      <td>ai</td>\n",
       "      <td>777</td>\n",
       "    </tr>\n",
       "    <tr>\n",
       "      <th>8</th>\n",
       "      <td>sql</td>\n",
       "      <td>721</td>\n",
       "    </tr>\n",
       "    <tr>\n",
       "      <th>9</th>\n",
       "      <td>100daysofmlcode</td>\n",
       "      <td>617</td>\n",
       "    </tr>\n",
       "    <tr>\n",
       "      <th>10</th>\n",
       "      <td>deeplearning</td>\n",
       "      <td>590</td>\n",
       "    </tr>\n",
       "    <tr>\n",
       "      <th>11</th>\n",
       "      <td>opensource</td>\n",
       "      <td>553</td>\n",
       "    </tr>\n",
       "    <tr>\n",
       "      <th>12</th>\n",
       "      <td>dataviz</td>\n",
       "      <td>519</td>\n",
       "    </tr>\n",
       "    <tr>\n",
       "      <th>13</th>\n",
       "      <td>lowcode</td>\n",
       "      <td>517</td>\n",
       "    </tr>\n",
       "    <tr>\n",
       "      <th>14</th>\n",
       "      <td>statistics</td>\n",
       "      <td>472</td>\n",
       "    </tr>\n",
       "    <tr>\n",
       "      <th>15</th>\n",
       "      <td>nocode</td>\n",
       "      <td>449</td>\n",
       "    </tr>\n",
       "    <tr>\n",
       "      <th>16</th>\n",
       "      <td>artificialintelligence</td>\n",
       "      <td>444</td>\n",
       "    </tr>\n",
       "    <tr>\n",
       "      <th>17</th>\n",
       "      <td>kaggle</td>\n",
       "      <td>433</td>\n",
       "    </tr>\n",
       "    <tr>\n",
       "      <th>18</th>\n",
       "      <td>ml</td>\n",
       "      <td>364</td>\n",
       "    </tr>\n",
       "    <tr>\n",
       "      <th>19</th>\n",
       "      <td>learning</td>\n",
       "      <td>357</td>\n",
       "    </tr>\n",
       "    <tr>\n",
       "      <th>20</th>\n",
       "      <td>analytics</td>\n",
       "      <td>348</td>\n",
       "    </tr>\n",
       "    <tr>\n",
       "      <th>21</th>\n",
       "      <td>programming</td>\n",
       "      <td>320</td>\n",
       "    </tr>\n",
       "    <tr>\n",
       "      <th>22</th>\n",
       "      <td>coding</td>\n",
       "      <td>291</td>\n",
       "    </tr>\n",
       "    <tr>\n",
       "      <th>23</th>\n",
       "      <td>datavisualization</td>\n",
       "      <td>291</td>\n",
       "    </tr>\n",
       "    <tr>\n",
       "      <th>24</th>\n",
       "      <td>pandas</td>\n",
       "      <td>275</td>\n",
       "    </tr>\n",
       "    <tr>\n",
       "      <th>25</th>\n",
       "      <td>pythonbot</td>\n",
       "      <td>265</td>\n",
       "    </tr>\n",
       "    <tr>\n",
       "      <th>26</th>\n",
       "      <td>rstats</td>\n",
       "      <td>262</td>\n",
       "    </tr>\n",
       "    <tr>\n",
       "      <th>27</th>\n",
       "      <td>aibot</td>\n",
       "      <td>259</td>\n",
       "    </tr>\n",
       "    <tr>\n",
       "      <th>28</th>\n",
       "      <td>theravitshow</td>\n",
       "      <td>259</td>\n",
       "    </tr>\n",
       "    <tr>\n",
       "      <th>29</th>\n",
       "      <td>iot</td>\n",
       "      <td>248</td>\n",
       "    </tr>\n",
       "    <tr>\n",
       "      <th>30</th>\n",
       "      <td>code</td>\n",
       "      <td>246</td>\n",
       "    </tr>\n",
       "    <tr>\n",
       "      <th>31</th>\n",
       "      <td>codenewbie</td>\n",
       "      <td>239</td>\n",
       "    </tr>\n",
       "    <tr>\n",
       "      <th>32</th>\n",
       "      <td>womenwhocode</td>\n",
       "      <td>227</td>\n",
       "    </tr>\n",
       "    <tr>\n",
       "      <th>33</th>\n",
       "      <td>visualprogramming</td>\n",
       "      <td>227</td>\n",
       "    </tr>\n",
       "    <tr>\n",
       "      <th>34</th>\n",
       "      <td>dataanalysis</td>\n",
       "      <td>223</td>\n",
       "    </tr>\n",
       "    <tr>\n",
       "      <th>35</th>\n",
       "      <td>nlp</td>\n",
       "      <td>219</td>\n",
       "    </tr>\n",
       "    <tr>\n",
       "      <th>36</th>\n",
       "      <td>30daysofml</td>\n",
       "      <td>200</td>\n",
       "    </tr>\n",
       "    <tr>\n",
       "      <th>37</th>\n",
       "      <td>datascientist</td>\n",
       "      <td>194</td>\n",
       "    </tr>\n",
       "    <tr>\n",
       "      <th>38</th>\n",
       "      <td>tableau</td>\n",
       "      <td>179</td>\n",
       "    </tr>\n",
       "    <tr>\n",
       "      <th>39</th>\n",
       "      <td>javascript</td>\n",
       "      <td>179</td>\n",
       "    </tr>\n",
       "    <tr>\n",
       "      <th>40</th>\n",
       "      <td>linux</td>\n",
       "      <td>171</td>\n",
       "    </tr>\n",
       "    <tr>\n",
       "      <th>41</th>\n",
       "      <td>tensorflow</td>\n",
       "      <td>154</td>\n",
       "    </tr>\n",
       "    <tr>\n",
       "      <th>42</th>\n",
       "      <td>bigdata</td>\n",
       "      <td>153</td>\n",
       "    </tr>\n",
       "    <tr>\n",
       "      <th>43</th>\n",
       "      <td>powerbi</td>\n",
       "      <td>150</td>\n",
       "    </tr>\n",
       "    <tr>\n",
       "      <th>44</th>\n",
       "      <td>excel</td>\n",
       "      <td>141</td>\n",
       "    </tr>\n",
       "    <tr>\n",
       "      <th>45</th>\n",
       "      <td>coursera</td>\n",
       "      <td>131</td>\n",
       "    </tr>\n",
       "    <tr>\n",
       "      <th>46</th>\n",
       "      <td>r</td>\n",
       "      <td>131</td>\n",
       "    </tr>\n",
       "    <tr>\n",
       "      <th>47</th>\n",
       "      <td>datascientists</td>\n",
       "      <td>128</td>\n",
       "    </tr>\n",
       "    <tr>\n",
       "      <th>48</th>\n",
       "      <td>100daysofcodechallenge</td>\n",
       "      <td>127</td>\n",
       "    </tr>\n",
       "    <tr>\n",
       "      <th>49</th>\n",
       "      <td>womenintech</td>\n",
       "      <td>125</td>\n",
       "    </tr>\n",
       "  </tbody>\n",
       "</table>\n",
       "</div>"
      ],
      "text/plain": [
       "                   hashtag  count\n",
       "0              datascience   6498\n",
       "1            100daysofcode   3684\n",
       "2                   python   3481\n",
       "3          machinelearning   2878\n",
       "4                     data   1818\n",
       "5            dataanalytics   1344\n",
       "6                    knime    992\n",
       "7                       ai    777\n",
       "8                      sql    721\n",
       "9          100daysofmlcode    617\n",
       "10            deeplearning    590\n",
       "11              opensource    553\n",
       "12                 dataviz    519\n",
       "13                 lowcode    517\n",
       "14              statistics    472\n",
       "15                  nocode    449\n",
       "16  artificialintelligence    444\n",
       "17                  kaggle    433\n",
       "18                      ml    364\n",
       "19                learning    357\n",
       "20               analytics    348\n",
       "21             programming    320\n",
       "22                  coding    291\n",
       "23       datavisualization    291\n",
       "24                  pandas    275\n",
       "25               pythonbot    265\n",
       "26                  rstats    262\n",
       "27                   aibot    259\n",
       "28            theravitshow    259\n",
       "29                     iot    248\n",
       "30                    code    246\n",
       "31              codenewbie    239\n",
       "32            womenwhocode    227\n",
       "33       visualprogramming    227\n",
       "34            dataanalysis    223\n",
       "35                     nlp    219\n",
       "36              30daysofml    200\n",
       "37           datascientist    194\n",
       "38                 tableau    179\n",
       "39              javascript    179\n",
       "40                   linux    171\n",
       "41              tensorflow    154\n",
       "42                 bigdata    153\n",
       "43                 powerbi    150\n",
       "44                   excel    141\n",
       "45                coursera    131\n",
       "46                       r    131\n",
       "47          datascientists    128\n",
       "48  100daysofcodechallenge    127\n",
       "49             womenintech    125"
      ]
     },
     "execution_count": 45,
     "metadata": {},
     "output_type": "execute_result"
    }
   ],
   "source": [
    "df_hashtags"
   ]
  },
  {
   "cell_type": "code",
   "execution_count": null,
   "metadata": {},
   "outputs": [],
   "source": []
  }
 ],
 "metadata": {
  "kernelspec": {
   "display_name": "base",
   "language": "python",
   "name": "python3"
  },
  "language_info": {
   "codemirror_mode": {
    "name": "ipython",
    "version": 3
   },
   "file_extension": ".py",
   "mimetype": "text/x-python",
   "name": "python",
   "nbconvert_exporter": "python",
   "pygments_lexer": "ipython3",
   "version": "3.10.8"
  },
  "orig_nbformat": 4
 },
 "nbformat": 4,
 "nbformat_minor": 2
}
