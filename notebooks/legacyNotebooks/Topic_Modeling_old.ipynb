{
 "metadata": {
  "language_info": {
   "codemirror_mode": {
    "name": "ipython",
    "version": 3
   },
   "file_extension": ".py",
   "mimetype": "text/x-python",
   "name": "python",
   "nbconvert_exporter": "python",
   "pygments_lexer": "ipython3",
   "version": "3.9.2-final"
  },
  "orig_nbformat": 2,
  "kernelspec": {
   "name": "python392jvsc74a57bd0e8ae99d9c20b736ed1ebdc5d0d4557145eaffa6a1bc0849b3635b3af9b7f0aff",
   "display_name": "Python 3.9.2 64-bit ('base': conda)"
  },
  "metadata": {
   "interpreter": {
    "hash": "e8ae99d9c20b736ed1ebdc5d0d4557145eaffa6a1bc0849b3635b3af9b7f0aff"
   }
  }
 },
 "nbformat": 4,
 "nbformat_minor": 2,
 "cells": [
  {
   "source": [
    "# Topic Modeling\n"
   ],
   "cell_type": "markdown",
   "metadata": {}
  },
  {
   "cell_type": "code",
   "execution_count": 13,
   "metadata": {},
   "outputs": [],
   "source": [
    "import pandas as pd\n",
    "import numpy as np\n",
    "import re\n",
    "import nltk \n",
    "from nltk.corpus import stopwords\n",
    "from nltk.tokenize import word_tokenize\n",
    "from nltk.stem import WordNetLemmatizer\n",
    "\n",
    "from sklearn.feature_extraction.text import CountVectorizer\n",
    "from sklearn.decomposition import LatentDirichletAllocation"
   ]
  },
  {
   "cell_type": "code",
   "execution_count": 3,
   "metadata": {},
   "outputs": [],
   "source": [
    "df = pd.read_csv('/Users/markusmuller/python/projects/66DaysofData-tweets/data/final/Tweets_wc.csv')"
   ]
  },
  {
   "cell_type": "code",
   "execution_count": 5,
   "metadata": {},
   "outputs": [],
   "source": [
    "df = df[['user_name', 'full_text']]"
   ]
  },
  {
   "cell_type": "code",
   "execution_count": 6,
   "metadata": {},
   "outputs": [
    {
     "output_type": "execute_result",
     "data": {
      "text/plain": [
       "             user_name                                          full_text\n",
       "0           DuckPython        @KenJee_DS looking forward to #66DaysOfData\n",
       "1            KenJee_DS  Very excited to announce the #66daysofdata ini...\n",
       "2        Sachin_g_here            @KenJee_DS Looking fwd to #66Daysofdata\n",
       "3      gautham53814486  Let’s start #66daysofdata https://t.co/IPm1WhHaHB\n",
       "4      khudiamayankino               @KenJee_DS count me in #66daysofdata\n",
       "...                ...                                                ...\n",
       "14695           ABYA80  R2: #66daysofdata with @KenJee_DS Day 27: Had ...\n",
       "14696   georgekanellos  Days 16-18(R2) of #66daysofdata by @KenJee_DSF...\n",
       "14697  MarkusM99098101  Day 40 of  #66DaysOfData r2:read the first sec...\n",
       "14698  HeqiqetEhmedova  Day 4 of #100DaysOfCode ; #66daysofdata    ✔️D...\n",
       "14699     anyachocolat  Day 14 of #66DaysOfData:- Skillfactory course-...\n",
       "\n",
       "[14700 rows x 2 columns]"
      ],
      "text/html": "<div>\n<style scoped>\n    .dataframe tbody tr th:only-of-type {\n        vertical-align: middle;\n    }\n\n    .dataframe tbody tr th {\n        vertical-align: top;\n    }\n\n    .dataframe thead th {\n        text-align: right;\n    }\n</style>\n<table border=\"1\" class=\"dataframe\">\n  <thead>\n    <tr style=\"text-align: right;\">\n      <th></th>\n      <th>user_name</th>\n      <th>full_text</th>\n    </tr>\n  </thead>\n  <tbody>\n    <tr>\n      <th>0</th>\n      <td>DuckPython</td>\n      <td>@KenJee_DS looking forward to #66DaysOfData</td>\n    </tr>\n    <tr>\n      <th>1</th>\n      <td>KenJee_DS</td>\n      <td>Very excited to announce the #66daysofdata ini...</td>\n    </tr>\n    <tr>\n      <th>2</th>\n      <td>Sachin_g_here</td>\n      <td>@KenJee_DS Looking fwd to #66Daysofdata</td>\n    </tr>\n    <tr>\n      <th>3</th>\n      <td>gautham53814486</td>\n      <td>Let’s start #66daysofdata https://t.co/IPm1WhHaHB</td>\n    </tr>\n    <tr>\n      <th>4</th>\n      <td>khudiamayankino</td>\n      <td>@KenJee_DS count me in #66daysofdata</td>\n    </tr>\n    <tr>\n      <th>...</th>\n      <td>...</td>\n      <td>...</td>\n    </tr>\n    <tr>\n      <th>14695</th>\n      <td>ABYA80</td>\n      <td>R2: #66daysofdata with @KenJee_DS Day 27: Had ...</td>\n    </tr>\n    <tr>\n      <th>14696</th>\n      <td>georgekanellos</td>\n      <td>Days 16-18(R2) of #66daysofdata by @KenJee_DSF...</td>\n    </tr>\n    <tr>\n      <th>14697</th>\n      <td>MarkusM99098101</td>\n      <td>Day 40 of  #66DaysOfData r2:read the first sec...</td>\n    </tr>\n    <tr>\n      <th>14698</th>\n      <td>HeqiqetEhmedova</td>\n      <td>Day 4 of #100DaysOfCode ; #66daysofdata    ✔️D...</td>\n    </tr>\n    <tr>\n      <th>14699</th>\n      <td>anyachocolat</td>\n      <td>Day 14 of #66DaysOfData:- Skillfactory course-...</td>\n    </tr>\n  </tbody>\n</table>\n<p>14700 rows × 2 columns</p>\n</div>"
     },
     "metadata": {},
     "execution_count": 6
    }
   ],
   "source": [
    "df"
   ]
  },
  {
   "cell_type": "code",
   "execution_count": 31,
   "metadata": {},
   "outputs": [],
   "source": [
    "count = CountVectorizer(stop_words='english',\n",
    "                        max_df=.2,\n",
    "                        #max_features=1000\n",
    "                        )\n",
    "X = count.fit_transform(df['full_text'].values)"
   ]
  },
  {
   "cell_type": "code",
   "execution_count": 32,
   "metadata": {},
   "outputs": [],
   "source": [
    "lda = LatentDirichletAllocation(n_components=5,\n",
    "                                random_state=42,\n",
    "                                learning_method='batch')\n",
    "X_topics = lda.fit_transform(X)"
   ]
  },
  {
   "cell_type": "code",
   "execution_count": 34,
   "metadata": {},
   "outputs": [
    {
     "output_type": "stream",
     "name": "stdout",
     "text": [
      "Topic 1:\npython datascience today machinelearning 100daysofcode course ai kaggle pandas science\nTopic 2:\nlearning kaggle started project model machine chapter ml today reading\nTopic 3:\ntoday sql course python kaggle regression started science time days\nTopic 4:\nlearning machine course today deep read statistics machinelearning 100daysofcode datascience\nTopic 5:\nlearned python 100daysofcode datascience project using dataset amp code classification\n"
     ]
    }
   ],
   "source": [
    "n_top_words = 10\n",
    "feature_names = count.get_feature_names()\n",
    "\n",
    "for topic_idx, topic in enumerate(lda.components_):\n",
    "    print(\"Topic %d:\" % (topic_idx + 1))\n",
    "    print(\" \".join([feature_names[i]\n",
    "                    for i in topic.argsort()\\\n",
    "                        [:-n_top_words - 1:-1]]))"
   ]
  },
  {
   "cell_type": "code",
   "execution_count": 39,
   "metadata": {},
   "outputs": [],
   "source": [
    "df_user = df[df['user_name'] == 'MarkusM99098101']"
   ]
  },
  {
   "cell_type": "code",
   "execution_count": 55,
   "metadata": {},
   "outputs": [],
   "source": [
    "count = CountVectorizer(stop_words='english',\n",
    "                        max_df=.1,\n",
    "                        #max_features=1000\n",
    "                        )\n",
    "X = count.fit_transform(df_user['full_text'].values)"
   ]
  },
  {
   "cell_type": "code",
   "execution_count": 56,
   "metadata": {},
   "outputs": [],
   "source": [
    "lda = LatentDirichletAllocation(n_components=3,\n",
    "                                random_state=42,\n",
    "                                learning_method='batch')\n",
    "X_topics = lda.fit_transform(X)"
   ]
  },
  {
   "cell_type": "code",
   "execution_count": 57,
   "metadata": {},
   "outputs": [
    {
     "output_type": "stream",
     "name": "stdout",
     "text": [
      "Topic 1:\nround days based simple terminal website score implemented various 14\nTopic 2:\napi tweets twitter book math watched project related nlp sql\nTopic 3:\nmodel gradient descent working reading code housing portfolio went feature\n"
     ]
    }
   ],
   "source": [
    "n_top_words = 10\n",
    "feature_names = count.get_feature_names()\n",
    "\n",
    "for topic_idx, topic in enumerate(lda.components_):\n",
    "    print(\"Topic %d:\" % (topic_idx + 1))\n",
    "    print(\" \".join([feature_names[i]\n",
    "                    for i in topic.argsort()\\\n",
    "                        [:-n_top_words - 1:-1]]))"
   ]
  },
  {
   "cell_type": "code",
   "execution_count": null,
   "metadata": {},
   "outputs": [],
   "source": []
  }
 ]
}